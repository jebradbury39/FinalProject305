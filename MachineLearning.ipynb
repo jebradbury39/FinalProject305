{
 "cells": [
  {
   "cell_type": "code",
   "execution_count": 79,
   "metadata": {
    "collapsed": true
   },
   "outputs": [],
   "source": [
    "import pandas as pd\n",
    "import numpy as np\n",
    "\n",
    "import matplotlib.pyplot as plt\n",
    "%matplotlib inline\n",
    "\n",
    "from IPython.display import Image\n",
    "\n",
    "import sys\n",
    "sys.path.append(\"/home/jebradbury39/.local/lib/python3.5/site-packages\")\n",
    "import pydotplus"
   ]
  },
  {
   "cell_type": "code",
   "execution_count": 2,
   "metadata": {
    "collapsed": false
   },
   "outputs": [
    {
     "data": {
      "text/html": [
       "<div>\n",
       "<table border=\"1\" class=\"dataframe\">\n",
       "  <thead>\n",
       "    <tr style=\"text-align: right;\">\n",
       "      <th></th>\n",
       "      <th>additions</th>\n",
       "      <th>body</th>\n",
       "      <th>changed_files</th>\n",
       "      <th>created_at</th>\n",
       "      <th>deletions</th>\n",
       "      <th>description</th>\n",
       "      <th>event_time</th>\n",
       "      <th>forks_count</th>\n",
       "      <th>has_wiki</th>\n",
       "      <th>language</th>\n",
       "      <th>name</th>\n",
       "      <th>number_commits</th>\n",
       "      <th>open_issues_count</th>\n",
       "      <th>secondary_user</th>\n",
       "      <th>size</th>\n",
       "      <th>user_login</th>\n",
       "      <th>watchers_count</th>\n",
       "    </tr>\n",
       "  </thead>\n",
       "  <tbody>\n",
       "    <tr>\n",
       "      <th>0</th>\n",
       "      <td>81.0</td>\n",
       "      <td>NaN</td>\n",
       "      <td>13.0</td>\n",
       "      <td>2015-10-20T18:21:36Z</td>\n",
       "      <td>178.0</td>\n",
       "      <td>News, and upcoming releases from the Adventure...</td>\n",
       "      <td>2016-12-12 00:32:15</td>\n",
       "      <td>0</td>\n",
       "      <td>False</td>\n",
       "      <td>CSS</td>\n",
       "      <td>adventurerscodex.github.io</td>\n",
       "      <td>4.0</td>\n",
       "      <td>7</td>\n",
       "      <td>NaN</td>\n",
       "      <td>33379</td>\n",
       "      <td>Sonictherocketman</td>\n",
       "      <td>1</td>\n",
       "    </tr>\n",
       "    <tr>\n",
       "      <th>1</th>\n",
       "      <td>366.0</td>\n",
       "      <td>Issue #316\\r\\n\\r\\nTorre Agbar:\\r\\nModel in ble...</td>\n",
       "      <td>13.0</td>\n",
       "      <td>2016-09-27T19:26:16Z</td>\n",
       "      <td>0.0</td>\n",
       "      <td>Video Game project 2016 Software Engineering. ...</td>\n",
       "      <td>2016-12-12 00:21:50</td>\n",
       "      <td>0</td>\n",
       "      <td>True</td>\n",
       "      <td>C#</td>\n",
       "      <td>ES2016B</td>\n",
       "      <td>5.0</td>\n",
       "      <td>17</td>\n",
       "      <td>NaN</td>\n",
       "      <td>271098</td>\n",
       "      <td>jdomenmi7</td>\n",
       "      <td>8</td>\n",
       "    </tr>\n",
       "    <tr>\n",
       "      <th>2</th>\n",
       "      <td>104.0</td>\n",
       "      <td>Updated \"Migration from older versions\" chapte...</td>\n",
       "      <td>2.0</td>\n",
       "      <td>2011-12-09T15:15:43Z</td>\n",
       "      <td>0.0</td>\n",
       "      <td>REST and JAXRS</td>\n",
       "      <td>2016-12-12 00:15:40</td>\n",
       "      <td>652</td>\n",
       "      <td>False</td>\n",
       "      <td>Java</td>\n",
       "      <td>Resteasy</td>\n",
       "      <td>1.0</td>\n",
       "      <td>46</td>\n",
       "      <td>NaN</td>\n",
       "      <td>39365</td>\n",
       "      <td>ronsigal</td>\n",
       "      <td>546</td>\n",
       "    </tr>\n",
       "    <tr>\n",
       "      <th>3</th>\n",
       "      <td>4380.0</td>\n",
       "      <td>NaN</td>\n",
       "      <td>4.0</td>\n",
       "      <td>2016-11-20T19:14:17Z</td>\n",
       "      <td>0.0</td>\n",
       "      <td>NaN</td>\n",
       "      <td>2016-12-12 00:10:56</td>\n",
       "      <td>0</td>\n",
       "      <td>True</td>\n",
       "      <td>Jupyter Notebook</td>\n",
       "      <td>Renju</td>\n",
       "      <td>3.0</td>\n",
       "      <td>2</td>\n",
       "      <td>NaN</td>\n",
       "      <td>1241</td>\n",
       "      <td>storandrew</td>\n",
       "      <td>0</td>\n",
       "    </tr>\n",
       "    <tr>\n",
       "      <th>4</th>\n",
       "      <td>1.0</td>\n",
       "      <td>NaN</td>\n",
       "      <td>1.0</td>\n",
       "      <td>2016-12-11T16:27:13Z</td>\n",
       "      <td>0.0</td>\n",
       "      <td>NaN</td>\n",
       "      <td>2016-12-12 00:45:07</td>\n",
       "      <td>0</td>\n",
       "      <td>True</td>\n",
       "      <td>NaN</td>\n",
       "      <td>proyect</td>\n",
       "      <td>1.0</td>\n",
       "      <td>1</td>\n",
       "      <td>NaN</td>\n",
       "      <td>0</td>\n",
       "      <td>jlog1994</td>\n",
       "      <td>0</td>\n",
       "    </tr>\n",
       "  </tbody>\n",
       "</table>\n",
       "</div>"
      ],
      "text/plain": [
       "   additions                                               body  \\\n",
       "0       81.0                                                NaN   \n",
       "1      366.0  Issue #316\\r\\n\\r\\nTorre Agbar:\\r\\nModel in ble...   \n",
       "2      104.0  Updated \"Migration from older versions\" chapte...   \n",
       "3     4380.0                                                NaN   \n",
       "4        1.0                                                NaN   \n",
       "\n",
       "   changed_files            created_at  deletions  \\\n",
       "0           13.0  2015-10-20T18:21:36Z      178.0   \n",
       "1           13.0  2016-09-27T19:26:16Z        0.0   \n",
       "2            2.0  2011-12-09T15:15:43Z        0.0   \n",
       "3            4.0  2016-11-20T19:14:17Z        0.0   \n",
       "4            1.0  2016-12-11T16:27:13Z        0.0   \n",
       "\n",
       "                                         description           event_time  \\\n",
       "0  News, and upcoming releases from the Adventure...  2016-12-12 00:32:15   \n",
       "1  Video Game project 2016 Software Engineering. ...  2016-12-12 00:21:50   \n",
       "2                                     REST and JAXRS  2016-12-12 00:15:40   \n",
       "3                                                NaN  2016-12-12 00:10:56   \n",
       "4                                                NaN  2016-12-12 00:45:07   \n",
       "\n",
       "   forks_count has_wiki          language                        name  \\\n",
       "0            0    False               CSS  adventurerscodex.github.io   \n",
       "1            0     True                C#                     ES2016B   \n",
       "2          652    False              Java                    Resteasy   \n",
       "3            0     True  Jupyter Notebook                       Renju   \n",
       "4            0     True               NaN                     proyect   \n",
       "\n",
       "   number_commits  open_issues_count secondary_user    size  \\\n",
       "0             4.0                  7            NaN   33379   \n",
       "1             5.0                 17            NaN  271098   \n",
       "2             1.0                 46            NaN   39365   \n",
       "3             3.0                  2            NaN    1241   \n",
       "4             1.0                  1            NaN       0   \n",
       "\n",
       "          user_login  watchers_count  \n",
       "0  Sonictherocketman               1  \n",
       "1          jdomenmi7               8  \n",
       "2           ronsigal             546  \n",
       "3         storandrew               0  \n",
       "4           jlog1994               0  "
      ]
     },
     "execution_count": 2,
     "metadata": {},
     "output_type": "execute_result"
    }
   ],
   "source": [
    "allData = pd.read_csv(\"/share/GithubAnalysis/pullFiles/combined/combined.csv\").drop(\"Unnamed: 0\", axis=1)\n",
    "allData.head()"
   ]
  },
  {
   "cell_type": "code",
   "execution_count": 3,
   "metadata": {
    "collapsed": true
   },
   "outputs": [],
   "source": [
    "from sklearn.linear_model import LinearRegression\n",
    "from sklearn.model_selection import cross_val_score"
   ]
  },
  {
   "cell_type": "code",
   "execution_count": 53,
   "metadata": {
    "collapsed": false
   },
   "outputs": [
    {
     "data": {
      "text/plain": [
       "<matplotlib.axes._subplots.AxesSubplot at 0x7f4c91d5aa90>"
      ]
     },
     "execution_count": 53,
     "metadata": {},
     "output_type": "execute_result"
    },
    {
     "data": {
      "image/png": "[encoded data removed]",
      "text/plain": [
       "<matplotlib.figure.Figure at 0x7f4c91d6ea20>"
      ]
     },
     "metadata": {},
     "output_type": "display_data"
    }
   ],
   "source": [
    "data = allData.drop_duplicates(\"name\").sort_values(\"watchers_count\", ascending=False)\n",
    "data = data[data[\"watchers_count\"] < 200000]\n",
    "data.plot.scatter(\"forks_count\", \"watchers_count\")"
   ]
  },
  {
   "cell_type": "code",
   "execution_count": 73,
   "metadata": {
    "collapsed": true
   },
   "outputs": [],
   "source": [
    "data[\"has_wiki\"] = (data[\"has_wiki\"] == True) * 1"
   ]
  },
  {
   "cell_type": "markdown",
   "metadata": {},
   "source": [
    "__Linear Regression__"
   ]
  },
  {
   "cell_type": "code",
   "execution_count": 66,
   "metadata": {
    "collapsed": false
   },
   "outputs": [
    {
     "data": {
      "text/plain": [
       "1040760.6316937025"
      ]
     },
     "execution_count": 66,
     "metadata": {},
     "output_type": "execute_result"
    }
   ],
   "source": [
    "model = LinearRegression()\n",
    "trainX = data[[\"forks_count\"]]\n",
    "\n",
    "trainX = (trainX - trainX.mean()) / trainX.std()\n",
    "\n",
    "model.fit(X=trainX, y=data[\"watchers_count\"])\n",
    "-cross_val_score(model, trainX, data[\"watchers_count\"], cv=10, scoring=\"neg_mean_squared_error\").mean()"
   ]
  },
  {
   "cell_type": "markdown",
   "metadata": {},
   "source": [
    "__KNN__"
   ]
  },
  {
   "cell_type": "code",
   "execution_count": 57,
   "metadata": {
    "collapsed": false
   },
   "outputs": [
    {
     "data": {
      "text/plain": [
       "1187329.9103369969"
      ]
     },
     "execution_count": 57,
     "metadata": {},
     "output_type": "execute_result"
    }
   ],
   "source": [
    "from sklearn.neighbors import KNeighborsRegressor\n",
    "\n",
    "model = KNeighborsRegressor(n_neighbors=3)\n",
    "model.fit(X=trainX, y=data[\"watchers_count\"])\n",
    "-cross_val_score(model, trainX, data[\"watchers_count\"], cv=10, scoring=\"neg_mean_squared_error\").mean()"
   ]
  },
  {
   "cell_type": "markdown",
   "metadata": {},
   "source": [
    "__Decision Tree__"
   ]
  },
  {
   "cell_type": "code",
   "execution_count": 75,
   "metadata": {
    "collapsed": false
   },
   "outputs": [
    {
     "data": {
      "text/plain": [
       "714294.9870870912"
      ]
     },
     "execution_count": 75,
     "metadata": {},
     "output_type": "execute_result"
    }
   ],
   "source": [
    "from sklearn import tree\n",
    "\n",
    "model = tree.DecisionTreeRegressor()\n",
    "trainX = data[[\"has_wiki\", \"size\", \"forks_count\"]]\n",
    "\n",
    "trainX = (trainX - trainX.mean()) / trainX.std()\n",
    "\n",
    "model.fit(X=trainX, y=data[\"watchers_count\"])\n",
    "-cross_val_score(model, trainX, data[\"watchers_count\"], cv=10, scoring=\"neg_mean_squared_error\").mean()"
   ]
  },
  {
   "cell_type": "code",
   "execution_count": 70,
   "metadata": {
    "collapsed": false
   },
   "outputs": [],
   "source": [
    "tree.export_graphviz(model, out_file=\"test\")"
   ]
  },
  {
   "cell_type": "code",
   "execution_count": 80,
   "metadata": {
    "collapsed": false
   },
   "outputs": [
    {
     "ename": "KeyboardInterrupt",
     "evalue": "",
     "output_type": "error",
     "traceback": [
      "\u001b[0;31m---------------------------------------------------------------------------\u001b[0m",
      "\u001b[0;31mKeyboardInterrupt\u001b[0m                         Traceback (most recent call last)",
      "\u001b[0;32m<ipython-input-80-3636aeda4e69>\u001b[0m in \u001b[0;36m<module>\u001b[0;34m()\u001b[0m\n\u001b[1;32m      1\u001b[0m \u001b[0mdot_data\u001b[0m \u001b[0;34m=\u001b[0m \u001b[0mtree\u001b[0m\u001b[0;34m.\u001b[0m\u001b[0mexport_graphviz\u001b[0m\u001b[0;34m(\u001b[0m\u001b[0mmodel\u001b[0m\u001b[0;34m,\u001b[0m \u001b[0mout_file\u001b[0m\u001b[0;34m=\u001b[0m\u001b[0;32mNone\u001b[0m\u001b[0;34m,\u001b[0m \u001b[0mfilled\u001b[0m\u001b[0;34m=\u001b[0m\u001b[0;32mTrue\u001b[0m\u001b[0;34m,\u001b[0m \u001b[0mrounded\u001b[0m\u001b[0;34m=\u001b[0m\u001b[0;32mTrue\u001b[0m\u001b[0;34m,\u001b[0m \u001b[0mspecial_characters\u001b[0m\u001b[0;34m=\u001b[0m\u001b[0;32mTrue\u001b[0m\u001b[0;34m)\u001b[0m\u001b[0;34m\u001b[0m\u001b[0m\n\u001b[1;32m      2\u001b[0m \u001b[0mgraph\u001b[0m \u001b[0;34m=\u001b[0m \u001b[0mpydotplus\u001b[0m\u001b[0;34m.\u001b[0m\u001b[0mgraph_from_dot_data\u001b[0m\u001b[0;34m(\u001b[0m\u001b[0mdot_data\u001b[0m\u001b[0;34m)\u001b[0m\u001b[0;34m\u001b[0m\u001b[0m\n\u001b[0;32m----> 3\u001b[0;31m \u001b[0mImage\u001b[0m\u001b[0;34m(\u001b[0m\u001b[0mgraph\u001b[0m\u001b[0;34m.\u001b[0m\u001b[0mcreate_png\u001b[0m\u001b[0;34m(\u001b[0m\u001b[0;34m)\u001b[0m\u001b[0;34m)\u001b[0m\u001b[0;34m\u001b[0m\u001b[0m\n\u001b[0m",
      "\u001b[0;32m/home/jebradbury39/.local/lib/python3.5/site-packages/pydotplus/graphviz.py\u001b[0m in \u001b[0;36m<lambda>\u001b[0;34m(f, prog)\u001b[0m\n\u001b[1;32m   1795\u001b[0m             self.__setattr__(\n\u001b[1;32m   1796\u001b[0m                 \u001b[0;34m'create_'\u001b[0m \u001b[0;34m+\u001b[0m \u001b[0mfrmt\u001b[0m\u001b[0;34m,\u001b[0m\u001b[0;34m\u001b[0m\u001b[0m\n\u001b[0;32m-> 1797\u001b[0;31m                 \u001b[0;32mlambda\u001b[0m \u001b[0mf\u001b[0m\u001b[0;34m=\u001b[0m\u001b[0mfrmt\u001b[0m\u001b[0;34m,\u001b[0m \u001b[0mprog\u001b[0m\u001b[0;34m=\u001b[0m\u001b[0mself\u001b[0m\u001b[0;34m.\u001b[0m\u001b[0mprog\u001b[0m\u001b[0;34m:\u001b[0m \u001b[0mself\u001b[0m\u001b[0;34m.\u001b[0m\u001b[0mcreate\u001b[0m\u001b[0;34m(\u001b[0m\u001b[0mformat\u001b[0m\u001b[0;34m=\u001b[0m\u001b[0mf\u001b[0m\u001b[0;34m,\u001b[0m \u001b[0mprog\u001b[0m\u001b[0;34m=\u001b[0m\u001b[0mprog\u001b[0m\u001b[0;34m)\u001b[0m\u001b[0;34m\u001b[0m\u001b[0m\n\u001b[0m\u001b[1;32m   1798\u001b[0m             )\n\u001b[1;32m   1799\u001b[0m             \u001b[0mf\u001b[0m \u001b[0;34m=\u001b[0m \u001b[0mself\u001b[0m\u001b[0;34m.\u001b[0m\u001b[0m__dict__\u001b[0m\u001b[0;34m[\u001b[0m\u001b[0;34m'create_'\u001b[0m \u001b[0;34m+\u001b[0m \u001b[0mfrmt\u001b[0m\u001b[0;34m]\u001b[0m\u001b[0;34m\u001b[0m\u001b[0m\n",
      "\u001b[0;32m/home/jebradbury39/.local/lib/python3.5/site-packages/pydotplus/graphviz.py\u001b[0m in \u001b[0;36mcreate\u001b[0;34m(self, prog, format)\u001b[0m\n\u001b[1;32m   2002\u001b[0m         \u001b[0mstdout_output\u001b[0m \u001b[0;34m=\u001b[0m \u001b[0mlist\u001b[0m\u001b[0;34m(\u001b[0m\u001b[0;34m)\u001b[0m\u001b[0;34m\u001b[0m\u001b[0m\n\u001b[1;32m   2003\u001b[0m         \u001b[0;32mwhile\u001b[0m \u001b[0;32mTrue\u001b[0m\u001b[0;34m:\u001b[0m\u001b[0;34m\u001b[0m\u001b[0m\n\u001b[0;32m-> 2004\u001b[0;31m             \u001b[0mdata\u001b[0m \u001b[0;34m=\u001b[0m \u001b[0mstdout\u001b[0m\u001b[0;34m.\u001b[0m\u001b[0mread\u001b[0m\u001b[0;34m(\u001b[0m\u001b[0;34m)\u001b[0m\u001b[0;34m\u001b[0m\u001b[0m\n\u001b[0m\u001b[1;32m   2005\u001b[0m             \u001b[0;32mif\u001b[0m \u001b[0;32mnot\u001b[0m \u001b[0mdata\u001b[0m\u001b[0;34m:\u001b[0m\u001b[0;34m\u001b[0m\u001b[0m\n\u001b[1;32m   2006\u001b[0m                 \u001b[0;32mbreak\u001b[0m\u001b[0;34m\u001b[0m\u001b[0m\n",
      "\u001b[0;31mKeyboardInterrupt\u001b[0m: "
     ]
    }
   ],
   "source": [
    "dot_data = tree.export_graphviz(model, out_file=None, filled=True, rounded=True, special_characters=True)\n",
    "graph = pydotplus.graph_from_dot_data(dot_data)\n",
    "Image(graph.create_png())"
   ]
  },
  {
   "cell_type": "code",
   "execution_count": null,
   "metadata": {
    "collapsed": true
   },
   "outputs": [],
   "source": []
  }
 ],
 "metadata": {
  "kernelspec": {
   "display_name": "Python 3",
   "language": "python",
   "name": "python3"
  },
  "language_info": {
   "codemirror_mode": {
    "name": "ipython",
    "version": 3
   },
   "file_extension": ".py",
   "mimetype": "text/x-python",
   "name": "python",
   "nbconvert_exporter": "python",
   "pygments_lexer": "ipython3",
   "version": "3.5.2"
  }
 },
 "nbformat": 4,
 "nbformat_minor": 2
}
