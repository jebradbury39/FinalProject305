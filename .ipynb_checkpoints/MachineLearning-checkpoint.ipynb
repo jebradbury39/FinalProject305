{
 "cells": [
  {
   "cell_type": "markdown",
   "metadata": {},
   "source": [
    "# Machine Learning and Attribute Prediction"
   ]
  },
  {
   "cell_type": "code",
   "execution_count": 1,
   "metadata": {
    "collapsed": true
   },
   "outputs": [],
   "source": [
    "import pandas as pd\n",
    "import numpy as np\n",
    "\n",
    "import matplotlib.pyplot as plt\n",
    "%matplotlib inline\n",
    "\n",
    "from IPython.display import Image\n",
    "\n",
    "import sys\n",
    "sys.path.append(\"/home/jebradbury39/.local/lib/python3.5/site-packages\")\n",
    "import pydotplus"
   ]
  },
  {
   "cell_type": "code",
   "execution_count": 2,
   "metadata": {
    "collapsed": false
   },
   "outputs": [
    {
     "data": {
      "text/html": [
       "<div>\n",
       "<table border=\"1\" class=\"dataframe\">\n",
       "  <thead>\n",
       "    <tr style=\"text-align: right;\">\n",
       "      <th></th>\n",
       "      <th>additions</th>\n",
       "      <th>body</th>\n",
       "      <th>changed_files</th>\n",
       "      <th>created_at</th>\n",
       "      <th>deletions</th>\n",
       "      <th>description</th>\n",
       "      <th>event_time</th>\n",
       "      <th>forks_count</th>\n",
       "      <th>has_wiki</th>\n",
       "      <th>language</th>\n",
       "      <th>name</th>\n",
       "      <th>number_commits</th>\n",
       "      <th>open_issues_count</th>\n",
       "      <th>secondary_user</th>\n",
       "      <th>size</th>\n",
       "      <th>user_login</th>\n",
       "      <th>watchers_count</th>\n",
       "    </tr>\n",
       "  </thead>\n",
       "  <tbody>\n",
       "    <tr>\n",
       "      <th>0</th>\n",
       "      <td>81.0</td>\n",
       "      <td>NaN</td>\n",
       "      <td>13.0</td>\n",
       "      <td>2015-10-20T18:21:36Z</td>\n",
       "      <td>178.0</td>\n",
       "      <td>News, and upcoming releases from the Adventure...</td>\n",
       "      <td>2016-12-12 00:32:15</td>\n",
       "      <td>0</td>\n",
       "      <td>False</td>\n",
       "      <td>CSS</td>\n",
       "      <td>adventurerscodex.github.io</td>\n",
       "      <td>4.0</td>\n",
       "      <td>7</td>\n",
       "      <td>NaN</td>\n",
       "      <td>33379</td>\n",
       "      <td>Sonictherocketman</td>\n",
       "      <td>1</td>\n",
       "    </tr>\n",
       "    <tr>\n",
       "      <th>1</th>\n",
       "      <td>366.0</td>\n",
       "      <td>Issue #316\\r\\n\\r\\nTorre Agbar:\\r\\nModel in ble...</td>\n",
       "      <td>13.0</td>\n",
       "      <td>2016-09-27T19:26:16Z</td>\n",
       "      <td>0.0</td>\n",
       "      <td>Video Game project 2016 Software Engineering. ...</td>\n",
       "      <td>2016-12-12 00:21:50</td>\n",
       "      <td>0</td>\n",
       "      <td>True</td>\n",
       "      <td>C#</td>\n",
       "      <td>ES2016B</td>\n",
       "      <td>5.0</td>\n",
       "      <td>17</td>\n",
       "      <td>NaN</td>\n",
       "      <td>271098</td>\n",
       "      <td>jdomenmi7</td>\n",
       "      <td>8</td>\n",
       "    </tr>\n",
       "    <tr>\n",
       "      <th>2</th>\n",
       "      <td>104.0</td>\n",
       "      <td>Updated \"Migration from older versions\" chapte...</td>\n",
       "      <td>2.0</td>\n",
       "      <td>2011-12-09T15:15:43Z</td>\n",
       "      <td>0.0</td>\n",
       "      <td>REST and JAXRS</td>\n",
       "      <td>2016-12-12 00:15:40</td>\n",
       "      <td>652</td>\n",
       "      <td>False</td>\n",
       "      <td>Java</td>\n",
       "      <td>Resteasy</td>\n",
       "      <td>1.0</td>\n",
       "      <td>46</td>\n",
       "      <td>NaN</td>\n",
       "      <td>39365</td>\n",
       "      <td>ronsigal</td>\n",
       "      <td>546</td>\n",
       "    </tr>\n",
       "    <tr>\n",
       "      <th>3</th>\n",
       "      <td>4380.0</td>\n",
       "      <td>NaN</td>\n",
       "      <td>4.0</td>\n",
       "      <td>2016-11-20T19:14:17Z</td>\n",
       "      <td>0.0</td>\n",
       "      <td>NaN</td>\n",
       "      <td>2016-12-12 00:10:56</td>\n",
       "      <td>0</td>\n",
       "      <td>True</td>\n",
       "      <td>Jupyter Notebook</td>\n",
       "      <td>Renju</td>\n",
       "      <td>3.0</td>\n",
       "      <td>2</td>\n",
       "      <td>NaN</td>\n",
       "      <td>1241</td>\n",
       "      <td>storandrew</td>\n",
       "      <td>0</td>\n",
       "    </tr>\n",
       "    <tr>\n",
       "      <th>4</th>\n",
       "      <td>1.0</td>\n",
       "      <td>NaN</td>\n",
       "      <td>1.0</td>\n",
       "      <td>2016-12-11T16:27:13Z</td>\n",
       "      <td>0.0</td>\n",
       "      <td>NaN</td>\n",
       "      <td>2016-12-12 00:45:07</td>\n",
       "      <td>0</td>\n",
       "      <td>True</td>\n",
       "      <td>NaN</td>\n",
       "      <td>proyect</td>\n",
       "      <td>1.0</td>\n",
       "      <td>1</td>\n",
       "      <td>NaN</td>\n",
       "      <td>0</td>\n",
       "      <td>jlog1994</td>\n",
       "      <td>0</td>\n",
       "    </tr>\n",
       "  </tbody>\n",
       "</table>\n",
       "</div>"
      ],
      "text/plain": [
       "   additions                                               body  \\\n",
       "0       81.0                                                NaN   \n",
       "1      366.0  Issue #316\\r\\n\\r\\nTorre Agbar:\\r\\nModel in ble...   \n",
       "2      104.0  Updated \"Migration from older versions\" chapte...   \n",
       "3     4380.0                                                NaN   \n",
       "4        1.0                                                NaN   \n",
       "\n",
       "   changed_files            created_at  deletions  \\\n",
       "0           13.0  2015-10-20T18:21:36Z      178.0   \n",
       "1           13.0  2016-09-27T19:26:16Z        0.0   \n",
       "2            2.0  2011-12-09T15:15:43Z        0.0   \n",
       "3            4.0  2016-11-20T19:14:17Z        0.0   \n",
       "4            1.0  2016-12-11T16:27:13Z        0.0   \n",
       "\n",
       "                                         description           event_time  \\\n",
       "0  News, and upcoming releases from the Adventure...  2016-12-12 00:32:15   \n",
       "1  Video Game project 2016 Software Engineering. ...  2016-12-12 00:21:50   \n",
       "2                                     REST and JAXRS  2016-12-12 00:15:40   \n",
       "3                                                NaN  2016-12-12 00:10:56   \n",
       "4                                                NaN  2016-12-12 00:45:07   \n",
       "\n",
       "   forks_count has_wiki          language                        name  \\\n",
       "0            0    False               CSS  adventurerscodex.github.io   \n",
       "1            0     True                C#                     ES2016B   \n",
       "2          652    False              Java                    Resteasy   \n",
       "3            0     True  Jupyter Notebook                       Renju   \n",
       "4            0     True               NaN                     proyect   \n",
       "\n",
       "   number_commits  open_issues_count secondary_user    size  \\\n",
       "0             4.0                  7            NaN   33379   \n",
       "1             5.0                 17            NaN  271098   \n",
       "2             1.0                 46            NaN   39365   \n",
       "3             3.0                  2            NaN    1241   \n",
       "4             1.0                  1            NaN       0   \n",
       "\n",
       "          user_login  watchers_count  \n",
       "0  Sonictherocketman               1  \n",
       "1          jdomenmi7               8  \n",
       "2           ronsigal             546  \n",
       "3         storandrew               0  \n",
       "4           jlog1994               0  "
      ]
     },
     "execution_count": 2,
     "metadata": {},
     "output_type": "execute_result"
    }
   ],
   "source": [
    "allData = pd.read_csv(\"/share/GithubAnalysis/pullFiles/combined/combined.csv\").drop(\"Unnamed: 0\", axis=1)\n",
    "allData.head()"
   ]
  },
  {
   "cell_type": "code",
   "execution_count": 3,
   "metadata": {
    "collapsed": true
   },
   "outputs": [],
   "source": [
    "from sklearn.linear_model import LinearRegression\n",
    "from sklearn.model_selection import cross_val_score"
   ]
  },
  {
   "cell_type": "code",
   "execution_count": 4,
   "metadata": {
    "collapsed": false
   },
   "outputs": [
    {
     "data": {
      "text/plain": [
       "<matplotlib.axes._subplots.AxesSubplot at 0x7fbaf6fdae80>"
      ]
     },
     "execution_count": 4,
     "metadata": {},
     "output_type": "execute_result"
    },
    {
     "data": {
      "image/png": "[encoded data removed]",
      "text/plain": [
       "<matplotlib.figure.Figure at 0x7fbaf6fda780>"
      ]
     },
     "metadata": {},
     "output_type": "display_data"
    }
   ],
   "source": [
    "# data now equals only unique repositories\n",
    "data = allData.drop_duplicates(\"name\").sort_values(\"watchers_count\", ascending=False)\n",
    "data = data[data[\"watchers_count\"] < 200000]\n",
    "data.plot.scatter(\"forks_count\", \"watchers_count\")"
   ]
  },
  {
   "cell_type": "code",
   "execution_count": 5,
   "metadata": {
    "collapsed": true
   },
   "outputs": [],
   "source": [
    "data[\"has_wiki\"] = (data[\"has_wiki\"] == True) * 1"
   ]
  },
  {
   "cell_type": "code",
   "execution_count": 6,
   "metadata": {
    "collapsed": true
   },
   "outputs": [],
   "source": [
    "#dropping outliers from forks count\n",
    "data = data[data[\"forks_count\"] < 75000]"
   ]
  },
  {
   "cell_type": "code",
   "execution_count": 7,
   "metadata": {
    "collapsed": false
   },
   "outputs": [],
   "source": [
    "# converting string date to epoch time (seconds since 1970)\n",
    "data[\"age\"] = pd.to_datetime(data[\"created_at\"])\n",
    "data[\"age\"] = (data[\"age\"] - pd.datetime(1970,1,1)).dt.total_seconds()"
   ]
  },
  {
   "cell_type": "code",
   "execution_count": 8,
   "metadata": {
    "collapsed": true
   },
   "outputs": [],
   "source": [
    "def getTopLanguages(data, num):\n",
    "    temp = data.groupby(\"language\").sum().sort_values(\"size\", ascending=False)\n",
    "    temp = temp.head(num)\n",
    "    return temp.index"
   ]
  },
  {
   "cell_type": "code",
   "execution_count": 9,
   "metadata": {
    "collapsed": false
   },
   "outputs": [
    {
     "data": {
      "text/html": [
       "<div>\n",
       "<table border=\"1\" class=\"dataframe\">\n",
       "  <thead>\n",
       "    <tr style=\"text-align: right;\">\n",
       "      <th></th>\n",
       "      <th>google</th>\n",
       "      <th>apple</th>\n",
       "      <th>ios</th>\n",
       "      <th>windows</th>\n",
       "      <th>android</th>\n",
       "      <th>mac</th>\n",
       "      <th>amazon</th>\n",
       "    </tr>\n",
       "  </thead>\n",
       "  <tbody>\n",
       "    <tr>\n",
       "      <th>4377</th>\n",
       "      <td>0</td>\n",
       "      <td>0</td>\n",
       "      <td>0</td>\n",
       "      <td>0</td>\n",
       "      <td>0</td>\n",
       "      <td>0</td>\n",
       "      <td>0</td>\n",
       "    </tr>\n",
       "    <tr>\n",
       "      <th>14358</th>\n",
       "      <td>0</td>\n",
       "      <td>0</td>\n",
       "      <td>0</td>\n",
       "      <td>0</td>\n",
       "      <td>0</td>\n",
       "      <td>0</td>\n",
       "      <td>0</td>\n",
       "    </tr>\n",
       "    <tr>\n",
       "      <th>213334</th>\n",
       "      <td>0</td>\n",
       "      <td>0</td>\n",
       "      <td>0</td>\n",
       "      <td>0</td>\n",
       "      <td>0</td>\n",
       "      <td>0</td>\n",
       "      <td>0</td>\n",
       "    </tr>\n",
       "    <tr>\n",
       "      <th>75016</th>\n",
       "      <td>0</td>\n",
       "      <td>0</td>\n",
       "      <td>0</td>\n",
       "      <td>0</td>\n",
       "      <td>0</td>\n",
       "      <td>0</td>\n",
       "      <td>0</td>\n",
       "    </tr>\n",
       "    <tr>\n",
       "      <th>27381</th>\n",
       "      <td>0</td>\n",
       "      <td>0</td>\n",
       "      <td>0</td>\n",
       "      <td>0</td>\n",
       "      <td>0</td>\n",
       "      <td>0</td>\n",
       "      <td>0</td>\n",
       "    </tr>\n",
       "  </tbody>\n",
       "</table>\n",
       "</div>"
      ],
      "text/plain": [
       "        google  apple  ios  windows  android  mac  amazon\n",
       "4377         0      0    0        0        0    0       0\n",
       "14358        0      0    0        0        0    0       0\n",
       "213334       0      0    0        0        0    0       0\n",
       "75016        0      0    0        0        0    0       0\n",
       "27381        0      0    0        0        0    0       0"
      ]
     },
     "execution_count": 9,
     "metadata": {},
     "output_type": "execute_result"
    }
   ],
   "source": [
    "words = [\"google\", \"apple\", \"ios\", \"windows\", \"android\", \"mac\", \"amazon\"]\n",
    "for word in words:\n",
    "    data[word] = data[\"description\"].str.lower().str.contains(word, na=False) * 1\n",
    "\n",
    "wordsX = data[words]\n",
    "wordsX.head()"
   ]
  },
  {
   "cell_type": "code",
   "execution_count": 10,
   "metadata": {
    "collapsed": false
   },
   "outputs": [
    {
     "data": {
      "text/html": [
       "<div>\n",
       "<table border=\"1\" class=\"dataframe\">\n",
       "  <thead>\n",
       "    <tr style=\"text-align: right;\">\n",
       "      <th></th>\n",
       "      <th>Java</th>\n",
       "      <th>JavaScript</th>\n",
       "      <th>C++</th>\n",
       "      <th>Python</th>\n",
       "      <th>C</th>\n",
       "      <th>HTML</th>\n",
       "      <th>C#</th>\n",
       "      <th>PHP</th>\n",
       "      <th>CSS</th>\n",
       "      <th>Ruby</th>\n",
       "      <th>Objective-C</th>\n",
       "      <th>DM</th>\n",
       "    </tr>\n",
       "  </thead>\n",
       "  <tbody>\n",
       "    <tr>\n",
       "      <th>4377</th>\n",
       "      <td>0</td>\n",
       "      <td>1</td>\n",
       "      <td>0</td>\n",
       "      <td>0</td>\n",
       "      <td>0</td>\n",
       "      <td>0</td>\n",
       "      <td>0</td>\n",
       "      <td>0</td>\n",
       "      <td>0</td>\n",
       "      <td>0</td>\n",
       "      <td>0</td>\n",
       "      <td>0</td>\n",
       "    </tr>\n",
       "    <tr>\n",
       "      <th>14358</th>\n",
       "      <td>0</td>\n",
       "      <td>1</td>\n",
       "      <td>0</td>\n",
       "      <td>0</td>\n",
       "      <td>0</td>\n",
       "      <td>0</td>\n",
       "      <td>0</td>\n",
       "      <td>0</td>\n",
       "      <td>0</td>\n",
       "      <td>0</td>\n",
       "      <td>0</td>\n",
       "      <td>0</td>\n",
       "    </tr>\n",
       "    <tr>\n",
       "      <th>213334</th>\n",
       "      <td>0</td>\n",
       "      <td>1</td>\n",
       "      <td>0</td>\n",
       "      <td>0</td>\n",
       "      <td>0</td>\n",
       "      <td>0</td>\n",
       "      <td>0</td>\n",
       "      <td>0</td>\n",
       "      <td>0</td>\n",
       "      <td>0</td>\n",
       "      <td>0</td>\n",
       "      <td>0</td>\n",
       "    </tr>\n",
       "    <tr>\n",
       "      <th>75016</th>\n",
       "      <td>0</td>\n",
       "      <td>0</td>\n",
       "      <td>0</td>\n",
       "      <td>0</td>\n",
       "      <td>0</td>\n",
       "      <td>1</td>\n",
       "      <td>0</td>\n",
       "      <td>0</td>\n",
       "      <td>0</td>\n",
       "      <td>0</td>\n",
       "      <td>0</td>\n",
       "      <td>0</td>\n",
       "    </tr>\n",
       "    <tr>\n",
       "      <th>27381</th>\n",
       "      <td>0</td>\n",
       "      <td>0</td>\n",
       "      <td>0</td>\n",
       "      <td>0</td>\n",
       "      <td>0</td>\n",
       "      <td>0</td>\n",
       "      <td>0</td>\n",
       "      <td>0</td>\n",
       "      <td>0</td>\n",
       "      <td>0</td>\n",
       "      <td>0</td>\n",
       "      <td>0</td>\n",
       "    </tr>\n",
       "  </tbody>\n",
       "</table>\n",
       "</div>"
      ],
      "text/plain": [
       "        Java  JavaScript  C++  Python  C  HTML  C#  PHP  CSS  Ruby  \\\n",
       "4377       0           1    0       0  0     0   0    0    0     0   \n",
       "14358      0           1    0       0  0     0   0    0    0     0   \n",
       "213334     0           1    0       0  0     0   0    0    0     0   \n",
       "75016      0           0    0       0  0     1   0    0    0     0   \n",
       "27381      0           0    0       0  0     0   0    0    0     0   \n",
       "\n",
       "        Objective-C  DM  \n",
       "4377              0   0  \n",
       "14358             0   0  \n",
       "213334            0   0  \n",
       "75016             0   0  \n",
       "27381             0   0  "
      ]
     },
     "execution_count": 10,
     "metadata": {},
     "output_type": "execute_result"
    }
   ],
   "source": [
    "languagesX = pd.get_dummies(data[\"language\"])[getTopLanguages(data, 12)]\n",
    "#all other languages are grouped into \"Other\" and that is the baseline\n",
    "languagesX.head()"
   ]
  },
  {
   "cell_type": "markdown",
   "metadata": {},
   "source": [
    "# Predicting Popularity (based on # watchers)"
   ]
  },
  {
   "cell_type": "markdown",
   "metadata": {},
   "source": [
    "__Linear Regression__"
   ]
  },
  {
   "cell_type": "code",
   "execution_count": 11,
   "metadata": {
    "collapsed": false
   },
   "outputs": [
    {
     "data": {
      "text/plain": [
       "1212152.1430899263"
      ]
     },
     "execution_count": 11,
     "metadata": {},
     "output_type": "execute_result"
    }
   ],
   "source": [
    "model = LinearRegression()\n",
    "trainY = data[\"watchers_count\"]\n",
    "trainX = data[[\"forks_count\", \"size\", \"age\"]]\n",
    "\n",
    "trainX = (trainX - trainX.mean()) / trainX.std()\n",
    "\n",
    "trainX = pd.concat([trainX, languagesX, wordsX], axis=1)\n",
    "\n",
    "model.fit(X=trainX, y=trainY)\n",
    "-cross_val_score(model, trainX, trainY, cv=10, scoring=\"neg_mean_squared_error\").mean()"
   ]
  },
  {
   "cell_type": "markdown",
   "metadata": {},
   "source": [
    "__KNN__"
   ]
  },
  {
   "cell_type": "code",
   "execution_count": 12,
   "metadata": {
    "collapsed": false
   },
   "outputs": [
    {
     "data": {
      "text/plain": [
       "1040092.5256865311"
      ]
     },
     "execution_count": 12,
     "metadata": {},
     "output_type": "execute_result"
    }
   ],
   "source": [
    "from sklearn.neighbors import KNeighborsRegressor\n",
    "\n",
    "model = KNeighborsRegressor(n_neighbors=10)\n",
    "model.fit(X=trainX, y=trainY)\n",
    "-cross_val_score(model, trainX, trainY, cv=10, scoring=\"neg_mean_squared_error\").mean()"
   ]
  },
  {
   "cell_type": "markdown",
   "metadata": {},
   "source": [
    "__Decision Tree__"
   ]
  },
  {
   "cell_type": "code",
   "execution_count": 13,
   "metadata": {
    "collapsed": false
   },
   "outputs": [
    {
     "data": {
      "text/plain": [
       "1041564.6234145183"
      ]
     },
     "execution_count": 13,
     "metadata": {},
     "output_type": "execute_result"
    }
   ],
   "source": [
    "from sklearn import tree\n",
    "\n",
    "model = tree.DecisionTreeRegressor()\n",
    "model.fit(X=trainX, y=trainY)\n",
    "-cross_val_score(model, trainX, trainY, cv=10, scoring=\"neg_mean_squared_error\").mean()"
   ]
  },
  {
   "cell_type": "markdown",
   "metadata": {},
   "source": [
    "__Lasso__"
   ]
  },
  {
   "cell_type": "code",
   "execution_count": 14,
   "metadata": {
    "collapsed": false
   },
   "outputs": [
    {
     "data": {
      "text/plain": [
       "1075866.1772712865"
      ]
     },
     "execution_count": 14,
     "metadata": {},
     "output_type": "execute_result"
    }
   ],
   "source": [
    "from sklearn import linear_model\n",
    "\n",
    "#lasso model works well with fewer params\n",
    "trainX = data[[\"size\", \"age\"]]\n",
    "\n",
    "trainX = (trainX - trainX.mean()) / trainX.std()\n",
    "\n",
    "#trainX = pd.concat([trainX, languagesX, wordsX], axis=1)\n",
    "\n",
    "\n",
    "model = linear_model.Lasso(alpha = 0.1)\n",
    "model.fit(X=trainX, y=trainY)\n",
    "-cross_val_score(model, trainX, trainY, cv=10, scoring=\"neg_mean_squared_error\").mean()"
   ]
  },
  {
   "cell_type": "markdown",
   "metadata": {},
   "source": [
    "# Predicting Open Issues Count"
   ]
  },
  {
   "cell_type": "markdown",
   "metadata": {},
   "source": [
    "__Linear Regression__"
   ]
  },
  {
   "cell_type": "code",
   "execution_count": 15,
   "metadata": {
    "collapsed": false
   },
   "outputs": [
    {
     "data": {
      "text/plain": [
       "5026.7725576275079"
      ]
     },
     "execution_count": 15,
     "metadata": {},
     "output_type": "execute_result"
    }
   ],
   "source": [
    "model = LinearRegression()\n",
    "trainY = data[\"open_issues_count\"]\n",
    "trainX = data[[\"size\", \"age\"]]\n",
    "\n",
    "trainX = (trainX - trainX.mean()) / trainX.std()\n",
    "\n",
    "trainX = pd.concat([trainX, languagesX, wordsX], axis=1)\n",
    "\n",
    "model.fit(X=trainX, y=trainY)\n",
    "-cross_val_score(model, trainX, trainY, cv=10, scoring=\"neg_mean_squared_error\").mean()"
   ]
  },
  {
   "cell_type": "markdown",
   "metadata": {},
   "source": [
    "__KNN__"
   ]
  },
  {
   "cell_type": "code",
   "execution_count": 16,
   "metadata": {
    "collapsed": false
   },
   "outputs": [
    {
     "data": {
      "text/plain": [
       "4893.7339293160803"
      ]
     },
     "execution_count": 16,
     "metadata": {},
     "output_type": "execute_result"
    }
   ],
   "source": [
    "from sklearn.neighbors import KNeighborsRegressor\n",
    "\n",
    "model = KNeighborsRegressor(n_neighbors=10)\n",
    "model.fit(X=trainX, y=trainY)\n",
    "-cross_val_score(model, trainX, trainY, cv=10, scoring=\"neg_mean_squared_error\").mean()"
   ]
  },
  {
   "cell_type": "markdown",
   "metadata": {},
   "source": [
    "__Decision Tree__"
   ]
  },
  {
   "cell_type": "code",
   "execution_count": 17,
   "metadata": {
    "collapsed": false
   },
   "outputs": [
    {
     "data": {
      "text/plain": [
       "7287.5505073671611"
      ]
     },
     "execution_count": 17,
     "metadata": {},
     "output_type": "execute_result"
    }
   ],
   "source": [
    "from sklearn import tree\n",
    "\n",
    "model = tree.DecisionTreeRegressor()\n",
    "model.fit(X=trainX, y=trainY)\n",
    "-cross_val_score(model, trainX, trainY, cv=10, scoring=\"neg_mean_squared_error\").mean()"
   ]
  },
  {
   "cell_type": "markdown",
   "metadata": {},
   "source": [
    "__Lasso__"
   ]
  },
  {
   "cell_type": "code",
   "execution_count": 18,
   "metadata": {
    "collapsed": false
   },
   "outputs": [
    {
     "data": {
      "text/plain": [
       "5017.428496442084"
      ]
     },
     "execution_count": 18,
     "metadata": {},
     "output_type": "execute_result"
    }
   ],
   "source": [
    "from sklearn import linear_model\n",
    "\n",
    "#lasso model works well with fewer params\n",
    "trainX = data[[\"size\", \"age\"]]\n",
    "\n",
    "trainX = (trainX - trainX.mean()) / trainX.std()\n",
    "\n",
    "#trainX = pd.concat([trainX, languagesX, wordsX], axis=1)\n",
    "\n",
    "\n",
    "model = linear_model.Lasso(alpha = 0.1)\n",
    "model.fit(X=trainX, y=trainY)\n",
    "-cross_val_score(model, trainX, trainY, cv=10, scoring=\"neg_mean_squared_error\").mean()"
   ]
  },
  {
   "cell_type": "markdown",
   "metadata": {},
   "source": [
    "__KNN Prediction of Issue Count__"
   ]
  },
  {
   "cell_type": "code",
   "execution_count": 19,
   "metadata": {
    "collapsed": true
   },
   "outputs": [],
   "source": [
    "from sklearn.model_selection import train_test_split\n",
    "\n",
    "data2 = pd.concat([data, languagesX, wordsX], axis=1)\n",
    "X_train, X_test, y_train, y_test = train_test_split(data2[[\"size\", \"age\"]], data2[\"open_issues_count\"], test_size=10)"
   ]
  },
  {
   "cell_type": "code",
   "execution_count": 20,
   "metadata": {
    "collapsed": false
   },
   "outputs": [],
   "source": [
    "model = KNeighborsRegressor(n_neighbors=10)\n",
    "model.fit(X=X_train, y=y_train)\n",
    "newY = model.predict(X_test)"
   ]
  },
  {
   "cell_type": "code",
   "execution_count": 21,
   "metadata": {
    "collapsed": false
   },
   "outputs": [
    {
     "data": {
      "text/plain": [
       "6.4303965663091116"
      ]
     },
     "execution_count": 21,
     "metadata": {},
     "output_type": "execute_result"
    }
   ],
   "source": [
    "np.sqrt(((y_test - model.predict(X_test)) ** 2).mean())"
   ]
  },
  {
   "cell_type": "code",
   "execution_count": 22,
   "metadata": {
    "collapsed": false
   },
   "outputs": [
    {
     "data": {
      "text/plain": [
       "60.639201271283042"
      ]
     },
     "execution_count": 22,
     "metadata": {},
     "output_type": "execute_result"
    }
   ],
   "source": [
    "np.sqrt(((y_train - model.predict(X_train)) ** 2).mean())"
   ]
  },
  {
   "cell_type": "markdown",
   "metadata": {},
   "source": [
    "## Conclusion\n",
    "\n",
    "__Predicting the number of watchers__\n",
    "We attempted to predict the number of watchers using various models involving variations of age, size, forks_count, language, and certain words in the description. This proved to be unsuccesful with errors above 1 million in all cases regardless of model, which is quite large considering that the largest watchers count is about 55k. We conclude that watchers count is not a variable that is directly related to any of our available data.\n",
    "\n",
    "__Predicting the number of open issues__\n",
    "We predicted the number of open issues also using various models involving variations of age, size, forks_count, language, and certain words in the description. This yeilded much better results that fell in line with the actual open issues counts, with an error well below the highest count. Our best model was K-Nearest-Neighbors with a k = 10. Linear regression and Lasso models both yeilded similar RMSE's. Decision Trees proved to be a worse model in this case. We conclude from this that the issues count is correlated to language, the size, and the age of a specific repo, with specific words in the description playing a very small role."
   ]
  },
  {
   "cell_type": "code",
   "execution_count": null,
   "metadata": {
    "collapsed": true
   },
   "outputs": [],
   "source": []
  }
 ],
 "metadata": {
  "kernelspec": {
   "display_name": "Python 3",
   "language": "python",
   "name": "python3"
  },
  "language_info": {
   "codemirror_mode": {
    "name": "ipython",
    "version": 3
   },
   "file_extension": ".py",
   "mimetype": "text/x-python",
   "name": "python",
   "nbconvert_exporter": "python",
   "pygments_lexer": "ipython3",
   "version": "3.5.2"
  }
 },
 "nbformat": 4,
 "nbformat_minor": 2
}
